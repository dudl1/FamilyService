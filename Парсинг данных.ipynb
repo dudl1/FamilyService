{
  "cells": [
    {
      "cell_type": "markdown",
      "metadata": {
        "id": "view-in-github",
        "colab_type": "text"
      },
      "source": [
        "<a href=\"https://colab.research.google.com/github/dudl1/FamilyService/blob/main/%D0%9F%D0%B0%D1%80%D1%81%D0%B8%D0%BD%D0%B3%20%D0%B4%D0%B0%D0%BD%D0%BD%D1%8B%D1%85.ipynb\" target=\"_parent\"><img src=\"https://colab.research.google.com/assets/colab-badge.svg\" alt=\"Open In Colab\"/></a>"
      ]
    },
    {
      "cell_type": "code",
      "source": [
        "!curl -fsSL https://deb.nodesource.com/setup_22.x | sudo bash -\n",
        "!sudo apt-get install -y nodejs\n",
        "!node -v\n",
        "!npm install puppeteer"
      ],
      "metadata": {
        "id": "KY-j18EzmYRa"
      },
      "execution_count": null,
      "outputs": []
    },
    {
      "cell_type": "code",
      "source": [
        "!npm install node-fetch@2"
      ],
      "metadata": {
        "id": "Xi00eLXpvHrW"
      },
      "execution_count": null,
      "outputs": []
    },
    {
      "cell_type": "code",
      "source": [
        "%%writefile search.js\n",
        "const puppeteer = require('puppeteer')\n",
        "const fetch = require('node-fetch') // если у тебя Node <18, иначе можно использовать глобальный fetch\n",
        "\n",
        "async function getCoordsFromOSM(cityName) {\n",
        "  const url = `https://nominatim.openstreetmap.org/search?format=json&q=${encodeURIComponent(cityName)}`\n",
        "  const response = await fetch(url)\n",
        "  const data = await response.json()\n",
        "\n",
        "  if (data.length === 0) {\n",
        "    throw new Error('Город не найден в OSM')\n",
        "  }\n",
        "\n",
        "  const place = data[0]\n",
        "  return {\n",
        "    latitude: parseFloat(place.lat),\n",
        "    longitude: parseFloat(place.lon)\n",
        "  }\n",
        "}\n",
        "\n",
        "function createYandexTrafficUrl(city, longitude, latitude, zoom = 12) {\n",
        "  const coords = encodeURIComponent(`${longitude},${latitude}`)\n",
        "  return `https://yandex.ru/maps/62/${city}/probki/?ll=${coords}&z=${zoom}`\n",
        "}\n",
        "\n",
        "async function fetchYandexTraffic(browser, url) {\n",
        "  const page = await browser.newPage()\n",
        "  await page.goto(url, { waitUntil: 'networkidle2' })\n",
        "\n",
        "  try {\n",
        "    await page.waitForSelector('.card-feature-view .traffic-icon', { timeout: 15000 })\n",
        "\n",
        "    const traffic = await page.evaluate(() => {\n",
        "      const scoreEl = document.querySelector('.card-feature-view__icon-wrapper .traffic-icon__text')\n",
        "      const score = scoreEl ? scoreEl.innerText.trim() : null\n",
        "\n",
        "      const hourEls = document.querySelectorAll('.traffic-forecast-view__hour')\n",
        "      const hours = Array.from(hourEls).map(el => {\n",
        "        const levelEl = el.querySelector('.traffic-forecast-view__hour-level')\n",
        "        const textEl = el.querySelector('.traffic-forecast-view__hour-text')\n",
        "        return {\n",
        "          hour: textEl ? textEl.innerText : null,\n",
        "          level: levelEl ? levelEl.innerText : null\n",
        "        }\n",
        "      })\n",
        "\n",
        "      let homeRoute = null\n",
        "      const homeBtn = document.querySelector('.home-work-route-view__button-text')\n",
        "      if (homeBtn) {\n",
        "        const match = homeBtn.innerText.match(/(\\d+)\\s*мин/)\n",
        "        if (match) {\n",
        "          homeRoute = parseInt(match[1], 10)\n",
        "        }\n",
        "      }\n",
        "\n",
        "      return { score, hours, homeRoute }\n",
        "    })\n",
        "\n",
        "    await page.close()\n",
        "    return traffic\n",
        "\n",
        "  } catch (err) {\n",
        "    console.error('Ошибка при получении данных:', err.message)\n",
        "    await page.close()\n",
        "    return null\n",
        "  }\n",
        "}\n",
        "\n",
        "async function main() {\n",
        "  const browser = await puppeteer.launch({\n",
        "    headless: true,\n",
        "    args: ['--no-sandbox']\n",
        "  })\n",
        "\n",
        "  try {\n",
        "    const cityName = 'Санкт-Петербург'       // название города для OSM\n",
        "    const yandexCityName = 'sankt-peterburg' // название города в URL Яндекса (можно в нижнем регистре и через дефисы)\n",
        "\n",
        "    console.time('OSM geocoding')\n",
        "    const coords = await getCoordsFromOSM(cityName)\n",
        "    console.timeEnd('OSM geocoding')\n",
        "    console.log(`Координаты города ${cityName}:`, coords)\n",
        "\n",
        "    const url = createYandexTrafficUrl(yandexCityName, coords.longitude, coords.latitude)\n",
        "    console.log('URL для Яндекс.Карт:', url)\n",
        "\n",
        "    console.time('Fetch Yandex traffic')\n",
        "    const data = await fetchYandexTraffic(browser, url)\n",
        "    console.timeEnd('Fetch Yandex traffic')\n",
        "\n",
        "    if (!data) {\n",
        "      console.log('Не удалось получить данные о пробках')\n",
        "      return\n",
        "    }\n",
        "\n",
        "    console.log(`🔴 Пробки сейчас в ${cityName}: ${data.score} баллов`)\n",
        "    console.log('🕒 Прогноз пробок по часам:')\n",
        "    for (const h of data.hours) {\n",
        "      console.log(`  – ${h.hour}:00 → ${h.level} баллов`)\n",
        "    }\n",
        "    if (data.homeRoute !== null) {\n",
        "      console.log(`🏠 Время: домой — ${data.homeRoute} мин`)\n",
        "    }\n",
        "\n",
        "  } catch (error) {\n",
        "    console.error('Ошибка:', error.message)\n",
        "  } finally {\n",
        "    await browser.close()\n",
        "  }\n",
        "}\n",
        "\n",
        "main()"
      ],
      "metadata": {
        "id": "4fDw3p6_m8sa",
        "outputId": "17db4117-2778-4542-af6e-fc9e52f35d21",
        "colab": {
          "base_uri": "https://localhost:8080/"
        }
      },
      "execution_count": 86,
      "outputs": [
        {
          "output_type": "stream",
          "name": "stdout",
          "text": [
            "Overwriting search.js\n"
          ]
        }
      ]
    },
    {
      "cell_type": "code",
      "source": [
        "!node search.js"
      ],
      "metadata": {
        "id": "zUV6bffTnA-q",
        "outputId": "4d677827-9ac2-4d65-a3fa-0cd7c5813c58",
        "colab": {
          "base_uri": "https://localhost:8080/"
        }
      },
      "execution_count": 87,
      "outputs": [
        {
          "output_type": "stream",
          "name": "stdout",
          "text": [
            "OSM geocoding: 416.871ms\n",
            "Координаты города Санкт-Петербург: { latitude: \u001b[33m59.9606739\u001b[39m, longitude: \u001b[33m30.1586551\u001b[39m }\n",
            "URL для Яндекс.Карт: https://yandex.ru/maps/62/sankt-peterburg/probki/?ll=30.1586551%2C59.9606739&z=12\n",
            "Fetch Yandex traffic: 6.224s\n",
            "🔴 Пробки сейчас в Санкт-Петербург: 1 баллов\n",
            "🕒 Прогноз пробок по часам:\n",
            "  – 4:00 → 0 баллов\n",
            "  – 5:00 → 0 баллов\n",
            "  – 6:00 → 0 баллов\n",
            "  – 7:00 → 1 баллов\n",
            "  – 8:00 → 3 баллов\n",
            "  – 9:00 → 3 баллов\n"
          ]
        }
      ]
    }
  ],
  "metadata": {
    "colab": {
      "name": "Добро пожаловать в Colab!",
      "provenance": [],
      "include_colab_link": true
    },
    "kernelspec": {
      "display_name": "Python 3",
      "name": "python3"
    }
  },
  "nbformat": 4,
  "nbformat_minor": 0
}